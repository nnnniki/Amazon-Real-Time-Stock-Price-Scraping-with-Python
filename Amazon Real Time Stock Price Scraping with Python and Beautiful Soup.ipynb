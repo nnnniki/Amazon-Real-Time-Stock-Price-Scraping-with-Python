{
 "cells": [
  {
   "cell_type": "code",
   "execution_count": 1,
   "metadata": {},
   "outputs": [],
   "source": [
    "## Amazon Real Time Stock Price Scraping with Python and Beautiful Soup\n",
    "import bs4\n",
    "import requests \n",
    "from bs4 import BeautifulSoup"
   ]
  },
  {
   "cell_type": "code",
   "execution_count": 2,
   "metadata": {},
   "outputs": [
    {
     "data": {
      "text/plain": [
       "[<div class=\"My(6px) Pos(r) smartphone_Mt(6px)\" data-reactid=\"47\"><div class=\"D(ib) Va(m) Maw(65%) Ov(h)\" data-reactid=\"48\"><div class=\"D(ib) Mend(20px)\" data-reactid=\"49\"><span class=\"Trsdu(0.3s) Fw(b) Fz(36px) Mb(-4px) D(ib)\" data-reactid=\"50\">3,467.42</span><span class=\"Trsdu(0.3s) Fw(500) Pstart(10px) Fz(24px) C($negativeColor)\" data-reactid=\"51\">-3.89 (-0.11%)</span><div class=\"C($tertiaryColor) D(b) Fz(12px) Fw(n) Mstart(0)--mobpsm Mt(6px)--mobpsm\" data-reactid=\"52\" id=\"quote-market-notice\"><span data-reactid=\"53\">At close:  4:00PM EDT</span></div></div><!-- react-empty: 54 --></div><div class=\"D(ib) Mstart(30px) Va(t) uba-container\" data-reactid=\"55\"><div class=\"uba-container D-n D(n)\" data-reactid=\"56\" id=\"defaultTRADENOW-sizer\"><!-- react-text: 57 --><!-- /react-text --><div class=\"\" data-reactid=\"58\" id=\"defaultTRADENOW-wrapper\"><div id=\"defaultdestTRADENOW\" style=\"\"></div></div></div></div></div>]"
      ]
     },
     "execution_count": 2,
     "metadata": {},
     "output_type": "execute_result"
    }
   ],
   "source": [
    "## Downloading the data\n",
    "page = requests.get(\"https://finance.yahoo.com/quote/AMZN?p=AMZN&.tsrc=fin-srch\")\n",
    "soup = BeautifulSoup(page.content,\"html.parser\")\n",
    "soup.find_all('div',{'class':\"My(6px) Pos(r) smartphone_Mt(6px)\"})"
   ]
  },
  {
   "cell_type": "code",
   "execution_count": 3,
   "metadata": {},
   "outputs": [
    {
     "data": {
      "text/plain": [
       "<span class=\"Trsdu(0.3s) Fw(b) Fz(36px) Mb(-4px) D(ib)\" data-reactid=\"50\">3,467.42</span>"
      ]
     },
     "execution_count": 3,
     "metadata": {},
     "output_type": "execute_result"
    }
   ],
   "source": [
    "## find price\n",
    "soup.find_all('div',{'class':\"My(6px) Pos(r) smartphone_Mt(6px)\"})[0].find('span')"
   ]
  },
  {
   "cell_type": "code",
   "execution_count": 4,
   "metadata": {},
   "outputs": [],
   "source": [
    "## function\n",
    "def price():\n",
    "    page = requests.get(\"https://finance.yahoo.com/quote/AMZN?p=AMZN&.tsrc=fin-srch\")\n",
    "    soup = BeautifulSoup(page.content,\"html.parser\")\n",
    "    price = soup.find_all('div',{'class':\"My(6px) Pos(r) smartphone_Mt(6px)\"})[0].find('span').get_text()\n",
    "    return price"
   ]
  },
  {
   "cell_type": "code",
   "execution_count": null,
   "metadata": {},
   "outputs": [
    {
     "name": "stdout",
     "output_type": "stream",
     "text": [
      "The current price:3,467.42\n",
      "The current price:3,467.42\n",
      "The current price:3,467.42\n",
      "The current price:3,467.42\n",
      "The current price:3,467.42\n",
      "The current price:3,467.42\n",
      "The current price:3,467.42\n",
      "The current price:3,467.42\n",
      "The current price:3,467.42\n",
      "The current price:3,467.42\n",
      "The current price:3,467.42\n",
      "The current price:3,467.42\n",
      "The current price:3,467.42\n",
      "The current price:3,467.42\n",
      "The current price:3,467.42\n",
      "The current price:3,467.42\n",
      "The current price:3,467.42\n",
      "The current price:3,467.42\n",
      "The current price:3,467.42\n",
      "The current price:3,467.42\n",
      "The current price:3,467.42\n",
      "The current price:3,467.42\n",
      "The current price:3,467.42\n",
      "The current price:3,467.42\n",
      "The current price:3,467.42\n",
      "The current price:3,467.42\n",
      "The current price:3,467.42\n",
      "The current price:3,467.42\n",
      "The current price:3,467.42\n",
      "The current price:3,467.42\n",
      "The current price:3,467.42\n",
      "The current price:3,467.42\n",
      "The current price:3,467.42\n",
      "The current price:3,467.42\n",
      "The current price:3,467.42\n",
      "The current price:3,467.42\n",
      "The current price:3,467.42\n",
      "The current price:3,467.42\n",
      "The current price:3,467.42\n",
      "The current price:3,467.42\n",
      "The current price:3,467.42\n",
      "The current price:3,467.42\n",
      "The current price:3,467.42\n",
      "The current price:3,467.42\n",
      "The current price:3,467.42\n",
      "The current price:3,467.42\n",
      "The current price:3,467.42\n",
      "The current price:3,467.42\n",
      "The current price:3,467.42\n",
      "The current price:3,467.42\n",
      "The current price:3,467.42\n",
      "The current price:3,467.42\n",
      "The current price:3,467.42\n",
      "The current price:3,467.42\n",
      "The current price:3,467.42\n"
     ]
    }
   ],
   "source": [
    "## loop\n",
    "while True:\n",
    "    print('The current price:'+str(price()))"
   ]
  },
  {
   "cell_type": "code",
   "execution_count": null,
   "metadata": {},
   "outputs": [],
   "source": []
  }
 ],
 "metadata": {
  "kernelspec": {
   "display_name": "Python 3",
   "language": "python",
   "name": "python3"
  },
  "language_info": {
   "codemirror_mode": {
    "name": "ipython",
    "version": 3
   },
   "file_extension": ".py",
   "mimetype": "text/x-python",
   "name": "python",
   "nbconvert_exporter": "python",
   "pygments_lexer": "ipython3",
   "version": "3.8.5"
  }
 },
 "nbformat": 4,
 "nbformat_minor": 4
}
